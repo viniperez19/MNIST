{
 "cells": [
  {
   "cell_type": "markdown",
   "id": "182cc752",
   "metadata": {},
   "source": [
    "<img src = \"https://www.pucsp.br/sites/default/files/download/brasao-PUCSP-assinatura-principal-RGB.png\" width=\"6%\"/>"
   ]
  },
  {
   "cell_type": "markdown",
   "id": "cebcefe1",
   "metadata": {},
   "source": [
    "*Integrantes*\n",
    "<table align=\"left\">\n",
    "    <tr>\n",
    "        <td>Nome:</td>\n",
    "        <td><b>Beatriz Gil</b></td>\n",
    "        <td>RA:</td>\n",
    "        <td><b>RA00297693</b></td>\n",
    "    </tr>\n",
    "    <tr>\n",
    "        <td>Nome:</td>\n",
    "        <td><b>Lucas Gregorio</b></td>\n",
    "        <td>RA:</td>\n",
    "        <td><b>RA00297813</b></td>\n",
    "    </tr>\n",
    "    <tr>\n",
    "        <td>Nome:</td>\n",
    "        <td><b>Vinícius Perez</b></td>\n",
    "        <td>RA:</td>\n",
    "        <td><b>RA00297669</b></td>\n",
    "    </tr>\n",
    "</table>\n"
   ]
  },
  {
   "cell_type": "markdown",
   "id": "073f9f78",
   "metadata": {},
   "source": [
    "## Bibliotecas"
   ]
  },
  {
   "cell_type": "code",
   "execution_count": 1,
   "id": "81d650d8",
   "metadata": {
    "pycharm": {
     "is_executing": true
    }
   },
   "outputs": [],
   "source": [
    "from sklearn.datasets import fetch_openml\n",
    "import pandas as pd\n",
    "import numpy as np\n",
    "import matplotlib.pyplot as plt\n",
    "import torch\n",
    "import torch.nn as nn\n",
    "import torch.optim as optim\n",
    "import torch.nn.functional as F\n",
    "from torch.utils.data import DataLoader, TensorDataset\n",
    "from sklearn.model_selection import train_test_split\n",
    "from sklearn.preprocessing import StandardScaler\n",
    "import ssl\n",
    "import seaborn as sns\n",
    "import matplotlib.pyplot as plt\n",
    "from sklearn.metrics import confusion_matrix\n",
    "import warnings\n",
    "from PIL import Image\n",
    "import torchvision.transforms as transforms\n",
    "import pandas as pd\n",
    "import torch\n",
    "warnings.filterwarnings(\"ignore\")"
   ]
  },
  {
   "cell_type": "markdown",
   "id": "221e411c",
   "metadata": {},
   "source": [
    "## Autentificação SSL"
   ]
  },
  {
   "cell_type": "markdown",
   "id": "49804cf6",
   "metadata": {},
   "source": [
    "Para rodar o dataset do MNIST é necessário utilizar esse codigo, pois a biblioteca não tem um certificado de SSL confiável (é necessário rodar apenas 1 vez)"
   ]
  },
  {
   "cell_type": "code",
   "execution_count": 2,
   "id": "e585cc8d",
   "metadata": {},
   "outputs": [],
   "source": [
    "ssl._create_default_https_context = ssl._create_unverified_context"
   ]
  },
  {
   "cell_type": "markdown",
   "id": "d5b79050",
   "metadata": {},
   "source": [
    "## Conjunti de dados MNIST"
   ]
  },
  {
   "cell_type": "markdown",
   "id": "4401904b",
   "metadata": {},
   "source": [
    " Nesse conunto de dados abaixo (mnist_784), cada linha representa uma imagem de um dígito escrito à mão, e cada coluna representa um pixel dessa imagem (cada imagem possui 28x28 pixels), ou seja, 784 pixels, onde cada coluna é 1 pixel (Onde cada pixel representa uma intensidade que varia de 0 a 255, ou seja, 0 representa a cor preta e 255 representa a cor branca)"
   ]
  },
  {
   "cell_type": "code",
   "execution_count": 3,
   "id": "2c668d66",
   "metadata": {},
   "outputs": [],
   "source": [
    "mnist = fetch_openml('mnist_784')"
   ]
  },
  {
   "cell_type": "markdown",
   "id": "1ad43bbd",
   "metadata": {},
   "source": [
    "Criando um DataFrame para vermos melhor as colunas de intensidade dos pixels e a coluna target, onde mostra qual número escrito a mão representa cada linha"
   ]
  },
  {
   "cell_type": "code",
   "execution_count": 4,
   "id": "14c396c0",
   "metadata": {},
   "outputs": [
    {
     "data": {
      "text/html": [
       "<div>\n",
       "<style scoped>\n",
       "    .dataframe tbody tr th:only-of-type {\n",
       "        vertical-align: middle;\n",
       "    }\n",
       "\n",
       "    .dataframe tbody tr th {\n",
       "        vertical-align: top;\n",
       "    }\n",
       "\n",
       "    .dataframe thead th {\n",
       "        text-align: right;\n",
       "    }\n",
       "</style>\n",
       "<table border=\"1\" class=\"dataframe\">\n",
       "  <thead>\n",
       "    <tr style=\"text-align: right;\">\n",
       "      <th></th>\n",
       "      <th>pixel1</th>\n",
       "      <th>pixel2</th>\n",
       "      <th>pixel3</th>\n",
       "      <th>pixel4</th>\n",
       "      <th>pixel5</th>\n",
       "      <th>pixel6</th>\n",
       "      <th>pixel7</th>\n",
       "      <th>pixel8</th>\n",
       "      <th>pixel9</th>\n",
       "      <th>pixel10</th>\n",
       "      <th>...</th>\n",
       "      <th>pixel776</th>\n",
       "      <th>pixel777</th>\n",
       "      <th>pixel778</th>\n",
       "      <th>pixel779</th>\n",
       "      <th>pixel780</th>\n",
       "      <th>pixel781</th>\n",
       "      <th>pixel782</th>\n",
       "      <th>pixel783</th>\n",
       "      <th>pixel784</th>\n",
       "      <th>target</th>\n",
       "    </tr>\n",
       "  </thead>\n",
       "  <tbody>\n",
       "    <tr>\n",
       "      <th>0</th>\n",
       "      <td>0.0</td>\n",
       "      <td>0.0</td>\n",
       "      <td>0.0</td>\n",
       "      <td>0.0</td>\n",
       "      <td>0.0</td>\n",
       "      <td>0.0</td>\n",
       "      <td>0.0</td>\n",
       "      <td>0.0</td>\n",
       "      <td>0.0</td>\n",
       "      <td>0.0</td>\n",
       "      <td>...</td>\n",
       "      <td>0.0</td>\n",
       "      <td>0.0</td>\n",
       "      <td>0.0</td>\n",
       "      <td>0.0</td>\n",
       "      <td>0.0</td>\n",
       "      <td>0.0</td>\n",
       "      <td>0.0</td>\n",
       "      <td>0.0</td>\n",
       "      <td>0.0</td>\n",
       "      <td>5</td>\n",
       "    </tr>\n",
       "    <tr>\n",
       "      <th>1</th>\n",
       "      <td>0.0</td>\n",
       "      <td>0.0</td>\n",
       "      <td>0.0</td>\n",
       "      <td>0.0</td>\n",
       "      <td>0.0</td>\n",
       "      <td>0.0</td>\n",
       "      <td>0.0</td>\n",
       "      <td>0.0</td>\n",
       "      <td>0.0</td>\n",
       "      <td>0.0</td>\n",
       "      <td>...</td>\n",
       "      <td>0.0</td>\n",
       "      <td>0.0</td>\n",
       "      <td>0.0</td>\n",
       "      <td>0.0</td>\n",
       "      <td>0.0</td>\n",
       "      <td>0.0</td>\n",
       "      <td>0.0</td>\n",
       "      <td>0.0</td>\n",
       "      <td>0.0</td>\n",
       "      <td>0</td>\n",
       "    </tr>\n",
       "    <tr>\n",
       "      <th>2</th>\n",
       "      <td>0.0</td>\n",
       "      <td>0.0</td>\n",
       "      <td>0.0</td>\n",
       "      <td>0.0</td>\n",
       "      <td>0.0</td>\n",
       "      <td>0.0</td>\n",
       "      <td>0.0</td>\n",
       "      <td>0.0</td>\n",
       "      <td>0.0</td>\n",
       "      <td>0.0</td>\n",
       "      <td>...</td>\n",
       "      <td>0.0</td>\n",
       "      <td>0.0</td>\n",
       "      <td>0.0</td>\n",
       "      <td>0.0</td>\n",
       "      <td>0.0</td>\n",
       "      <td>0.0</td>\n",
       "      <td>0.0</td>\n",
       "      <td>0.0</td>\n",
       "      <td>0.0</td>\n",
       "      <td>4</td>\n",
       "    </tr>\n",
       "    <tr>\n",
       "      <th>3</th>\n",
       "      <td>0.0</td>\n",
       "      <td>0.0</td>\n",
       "      <td>0.0</td>\n",
       "      <td>0.0</td>\n",
       "      <td>0.0</td>\n",
       "      <td>0.0</td>\n",
       "      <td>0.0</td>\n",
       "      <td>0.0</td>\n",
       "      <td>0.0</td>\n",
       "      <td>0.0</td>\n",
       "      <td>...</td>\n",
       "      <td>0.0</td>\n",
       "      <td>0.0</td>\n",
       "      <td>0.0</td>\n",
       "      <td>0.0</td>\n",
       "      <td>0.0</td>\n",
       "      <td>0.0</td>\n",
       "      <td>0.0</td>\n",
       "      <td>0.0</td>\n",
       "      <td>0.0</td>\n",
       "      <td>1</td>\n",
       "    </tr>\n",
       "    <tr>\n",
       "      <th>4</th>\n",
       "      <td>0.0</td>\n",
       "      <td>0.0</td>\n",
       "      <td>0.0</td>\n",
       "      <td>0.0</td>\n",
       "      <td>0.0</td>\n",
       "      <td>0.0</td>\n",
       "      <td>0.0</td>\n",
       "      <td>0.0</td>\n",
       "      <td>0.0</td>\n",
       "      <td>0.0</td>\n",
       "      <td>...</td>\n",
       "      <td>0.0</td>\n",
       "      <td>0.0</td>\n",
       "      <td>0.0</td>\n",
       "      <td>0.0</td>\n",
       "      <td>0.0</td>\n",
       "      <td>0.0</td>\n",
       "      <td>0.0</td>\n",
       "      <td>0.0</td>\n",
       "      <td>0.0</td>\n",
       "      <td>9</td>\n",
       "    </tr>\n",
       "    <tr>\n",
       "      <th>...</th>\n",
       "      <td>...</td>\n",
       "      <td>...</td>\n",
       "      <td>...</td>\n",
       "      <td>...</td>\n",
       "      <td>...</td>\n",
       "      <td>...</td>\n",
       "      <td>...</td>\n",
       "      <td>...</td>\n",
       "      <td>...</td>\n",
       "      <td>...</td>\n",
       "      <td>...</td>\n",
       "      <td>...</td>\n",
       "      <td>...</td>\n",
       "      <td>...</td>\n",
       "      <td>...</td>\n",
       "      <td>...</td>\n",
       "      <td>...</td>\n",
       "      <td>...</td>\n",
       "      <td>...</td>\n",
       "      <td>...</td>\n",
       "      <td>...</td>\n",
       "    </tr>\n",
       "    <tr>\n",
       "      <th>69995</th>\n",
       "      <td>0.0</td>\n",
       "      <td>0.0</td>\n",
       "      <td>0.0</td>\n",
       "      <td>0.0</td>\n",
       "      <td>0.0</td>\n",
       "      <td>0.0</td>\n",
       "      <td>0.0</td>\n",
       "      <td>0.0</td>\n",
       "      <td>0.0</td>\n",
       "      <td>0.0</td>\n",
       "      <td>...</td>\n",
       "      <td>0.0</td>\n",
       "      <td>0.0</td>\n",
       "      <td>0.0</td>\n",
       "      <td>0.0</td>\n",
       "      <td>0.0</td>\n",
       "      <td>0.0</td>\n",
       "      <td>0.0</td>\n",
       "      <td>0.0</td>\n",
       "      <td>0.0</td>\n",
       "      <td>2</td>\n",
       "    </tr>\n",
       "    <tr>\n",
       "      <th>69996</th>\n",
       "      <td>0.0</td>\n",
       "      <td>0.0</td>\n",
       "      <td>0.0</td>\n",
       "      <td>0.0</td>\n",
       "      <td>0.0</td>\n",
       "      <td>0.0</td>\n",
       "      <td>0.0</td>\n",
       "      <td>0.0</td>\n",
       "      <td>0.0</td>\n",
       "      <td>0.0</td>\n",
       "      <td>...</td>\n",
       "      <td>0.0</td>\n",
       "      <td>0.0</td>\n",
       "      <td>0.0</td>\n",
       "      <td>0.0</td>\n",
       "      <td>0.0</td>\n",
       "      <td>0.0</td>\n",
       "      <td>0.0</td>\n",
       "      <td>0.0</td>\n",
       "      <td>0.0</td>\n",
       "      <td>3</td>\n",
       "    </tr>\n",
       "    <tr>\n",
       "      <th>69997</th>\n",
       "      <td>0.0</td>\n",
       "      <td>0.0</td>\n",
       "      <td>0.0</td>\n",
       "      <td>0.0</td>\n",
       "      <td>0.0</td>\n",
       "      <td>0.0</td>\n",
       "      <td>0.0</td>\n",
       "      <td>0.0</td>\n",
       "      <td>0.0</td>\n",
       "      <td>0.0</td>\n",
       "      <td>...</td>\n",
       "      <td>0.0</td>\n",
       "      <td>0.0</td>\n",
       "      <td>0.0</td>\n",
       "      <td>0.0</td>\n",
       "      <td>0.0</td>\n",
       "      <td>0.0</td>\n",
       "      <td>0.0</td>\n",
       "      <td>0.0</td>\n",
       "      <td>0.0</td>\n",
       "      <td>4</td>\n",
       "    </tr>\n",
       "    <tr>\n",
       "      <th>69998</th>\n",
       "      <td>0.0</td>\n",
       "      <td>0.0</td>\n",
       "      <td>0.0</td>\n",
       "      <td>0.0</td>\n",
       "      <td>0.0</td>\n",
       "      <td>0.0</td>\n",
       "      <td>0.0</td>\n",
       "      <td>0.0</td>\n",
       "      <td>0.0</td>\n",
       "      <td>0.0</td>\n",
       "      <td>...</td>\n",
       "      <td>0.0</td>\n",
       "      <td>0.0</td>\n",
       "      <td>0.0</td>\n",
       "      <td>0.0</td>\n",
       "      <td>0.0</td>\n",
       "      <td>0.0</td>\n",
       "      <td>0.0</td>\n",
       "      <td>0.0</td>\n",
       "      <td>0.0</td>\n",
       "      <td>5</td>\n",
       "    </tr>\n",
       "    <tr>\n",
       "      <th>69999</th>\n",
       "      <td>0.0</td>\n",
       "      <td>0.0</td>\n",
       "      <td>0.0</td>\n",
       "      <td>0.0</td>\n",
       "      <td>0.0</td>\n",
       "      <td>0.0</td>\n",
       "      <td>0.0</td>\n",
       "      <td>0.0</td>\n",
       "      <td>0.0</td>\n",
       "      <td>0.0</td>\n",
       "      <td>...</td>\n",
       "      <td>0.0</td>\n",
       "      <td>0.0</td>\n",
       "      <td>0.0</td>\n",
       "      <td>0.0</td>\n",
       "      <td>0.0</td>\n",
       "      <td>0.0</td>\n",
       "      <td>0.0</td>\n",
       "      <td>0.0</td>\n",
       "      <td>0.0</td>\n",
       "      <td>6</td>\n",
       "    </tr>\n",
       "  </tbody>\n",
       "</table>\n",
       "<p>70000 rows × 785 columns</p>\n",
       "</div>"
      ],
      "text/plain": [
       "       pixel1  pixel2  pixel3  pixel4  pixel5  pixel6  pixel7  pixel8  pixel9  \\\n",
       "0         0.0     0.0     0.0     0.0     0.0     0.0     0.0     0.0     0.0   \n",
       "1         0.0     0.0     0.0     0.0     0.0     0.0     0.0     0.0     0.0   \n",
       "2         0.0     0.0     0.0     0.0     0.0     0.0     0.0     0.0     0.0   \n",
       "3         0.0     0.0     0.0     0.0     0.0     0.0     0.0     0.0     0.0   \n",
       "4         0.0     0.0     0.0     0.0     0.0     0.0     0.0     0.0     0.0   \n",
       "...       ...     ...     ...     ...     ...     ...     ...     ...     ...   \n",
       "69995     0.0     0.0     0.0     0.0     0.0     0.0     0.0     0.0     0.0   \n",
       "69996     0.0     0.0     0.0     0.0     0.0     0.0     0.0     0.0     0.0   \n",
       "69997     0.0     0.0     0.0     0.0     0.0     0.0     0.0     0.0     0.0   \n",
       "69998     0.0     0.0     0.0     0.0     0.0     0.0     0.0     0.0     0.0   \n",
       "69999     0.0     0.0     0.0     0.0     0.0     0.0     0.0     0.0     0.0   \n",
       "\n",
       "       pixel10  ...  pixel776  pixel777  pixel778  pixel779  pixel780  \\\n",
       "0          0.0  ...       0.0       0.0       0.0       0.0       0.0   \n",
       "1          0.0  ...       0.0       0.0       0.0       0.0       0.0   \n",
       "2          0.0  ...       0.0       0.0       0.0       0.0       0.0   \n",
       "3          0.0  ...       0.0       0.0       0.0       0.0       0.0   \n",
       "4          0.0  ...       0.0       0.0       0.0       0.0       0.0   \n",
       "...        ...  ...       ...       ...       ...       ...       ...   \n",
       "69995      0.0  ...       0.0       0.0       0.0       0.0       0.0   \n",
       "69996      0.0  ...       0.0       0.0       0.0       0.0       0.0   \n",
       "69997      0.0  ...       0.0       0.0       0.0       0.0       0.0   \n",
       "69998      0.0  ...       0.0       0.0       0.0       0.0       0.0   \n",
       "69999      0.0  ...       0.0       0.0       0.0       0.0       0.0   \n",
       "\n",
       "       pixel781  pixel782  pixel783  pixel784  target  \n",
       "0           0.0       0.0       0.0       0.0       5  \n",
       "1           0.0       0.0       0.0       0.0       0  \n",
       "2           0.0       0.0       0.0       0.0       4  \n",
       "3           0.0       0.0       0.0       0.0       1  \n",
       "4           0.0       0.0       0.0       0.0       9  \n",
       "...         ...       ...       ...       ...     ...  \n",
       "69995       0.0       0.0       0.0       0.0       2  \n",
       "69996       0.0       0.0       0.0       0.0       3  \n",
       "69997       0.0       0.0       0.0       0.0       4  \n",
       "69998       0.0       0.0       0.0       0.0       5  \n",
       "69999       0.0       0.0       0.0       0.0       6  \n",
       "\n",
       "[70000 rows x 785 columns]"
      ]
     },
     "execution_count": 4,
     "metadata": {},
     "output_type": "execute_result"
    }
   ],
   "source": [
    "df_mnist = pd.DataFrame(data=mnist['data'], columns=mnist['feature_names'])\n",
    "df_mnist['target'] = mnist['target']\n",
    "df_mnist"
   ]
  },
  {
   "cell_type": "markdown",
   "id": "44e00d33",
   "metadata": {},
   "source": [
    "## Analisando o Conjunto de dados"
   ]
  },
  {
   "cell_type": "markdown",
   "id": "a4db620a",
   "metadata": {},
   "source": [
    "5 primeiros números de cada classe"
   ]
  },
  {
   "cell_type": "code",
   "execution_count": 5,
   "id": "a41345a4",
   "metadata": {},
   "outputs": [
    {
     "data": {
      "image/png": "[encoded data removed]",
      "text/plain": [
       "<Figure size 1000x1000 with 5 Axes>"
      ]
     },
     "metadata": {},
     "output_type": "display_data"
    },
    {
     "data": {
      "image/png": "[encoded data removed]",
      "text/plain": [
       "<Figure size 1000x1000 with 5 Axes>"
      ]
     },
     "metadata": {},
     "output_type": "display_data"
    },
    {
     "data": {
      "image/png": "[encoded data removed]",
      "text/plain": [
       "<Figure size 1000x1000 with 5 Axes>"
      ]
     },
     "metadata": {},
     "output_type": "display_data"
    },
    {
     "data": {
      "image/png": "[encoded data removed]",
      "text/plain": [
       "<Figure size 1000x1000 with 5 Axes>"
      ]
     },
     "metadata": {},
     "output_type": "display_data"
    },
    {
     "data": {
      "image/png": "[encoded data removed]",
      "text/plain": [
       "<Figure size 1000x1000 with 5 Axes>"
      ]
     },
     "metadata": {},
     "output_type": "display_data"
    },
    {
     "data": {
      "image/png": "[encoded data removed]",
      "text/plain": [
       "<Figure size 1000x1000 with 5 Axes>"
      ]
     },
     "metadata": {},
     "output_type": "display_data"
    },
    {
     "data": {
      "image/png": "[encoded data removed]",
      "text/plain": [
       "<Figure size 1000x1000 with 5 Axes>"
      ]
     },
     "metadata": {},
     "output_type": "display_data"
    },
    {
     "data": {
      "image/png": "[encoded data removed]",
      "text/plain": [
       "<Figure size 1000x1000 with 5 Axes>"
      ]
     },
     "metadata": {},
     "output_type": "display_data"
    },
    {
     "data": {
      "image/png": "[encoded data removed]",
      "text/plain": [
       "<Figure size 1000x1000 with 5 Axes>"
      ]
     },
     "metadata": {},
     "output_type": "display_data"
    },
    {
     "data": {
      "image/png": "[encoded data removed]",
      "text/plain": [
       "<Figure size 1000x1000 with 5 Axes>"
      ]
     },
     "metadata": {},
     "output_type": "display_data"
    }
   ],
   "source": [
    "for i in range(10):\n",
    "    num_indices = np.where(mnist.target == str(i))[0][:5]\n",
    "    fig, ax = plt.subplots(1, 5, figsize=(10, 10))\n",
    "    for img in range(5):\n",
    "        ax[img].imshow(mnist.data.iloc[num_indices[img]].to_numpy().reshape(28, 28), cmap='gray')\n",
    "        ax[img].axis('off')\n",
    "    plt.show()"
   ]
  },
  {
   "cell_type": "markdown",
   "id": "5cbe4dbc",
   "metadata": {},
   "source": [
    "Quantidade de linhas que cada número no target possui (os números são de 0 a 9)"
   ]
  },
  {
   "cell_type": "code",
   "execution_count": 6,
   "id": "422da8c4",
   "metadata": {},
   "outputs": [
    {
     "data": {
      "image/png": "[encoded data removed]",
      "text/plain": [
       "<Figure size 640x480 with 1 Axes>"
      ]
     },
     "metadata": {},
     "output_type": "display_data"
    }
   ],
   "source": [
    "qtd_numeros = df_mnist['target'].value_counts()\n",
    "\n",
    "plt.bar(qtd_numeros.index, qtd_numeros.values, color='#F24F00')\n",
    "plt.title('A quantidade crescente de linhas para cada número do target')\n",
    "plt.xlabel('Números de 0 a 9')\n",
    "plt.ylabel('Quantidade de linhas')\n",
    "\n",
    "for i, v in enumerate(qtd_numeros.values):\n",
    "    plt.text(i, v, str(v), ha='center', va='bottom')\n",
    "    \n",
    "plt.show()"
   ]
  },
  {
   "cell_type": "markdown",
   "id": "c76b0f93",
   "metadata": {},
   "source": [
    "Ordem decrescente de intensidade dos pixels por cada número do target, com a soma de maior intensidade (somando todas as linhas de cada grupo de número)\n",
    "\n",
    "obs: Apenas para termos noção, pois a quantidade de linhas de cada número do target de 0 a 9 não é igual em nenhum dos números (qtd_numeros)"
   ]
  },
  {
   "cell_type": "code",
   "execution_count": 7,
   "id": "623c7a97",
   "metadata": {},
   "outputs": [
    {
     "data": {
      "image/png": "[encoded data removed]",
      "text/plain": [
       "<Figure size 640x480 with 1 Axes>"
      ]
     },
     "metadata": {},
     "output_type": "display_data"
    }
   ],
   "source": [
    "soma_intensidade = np.sum(df_mnist, axis=1)\n",
    "num_ordenados_intensidade = df_mnist.groupby('target').sum().sum(axis=1).sort_values(ascending=True)\n",
    "\n",
    "plt.barh(num_ordenados_intensidade.index, num_ordenados_intensidade.values, color='#F24F00')\n",
    "plt.title(\"Soma de Intensidade dos pixels por cada número do target\")\n",
    "plt.xlabel(\"Soma de intensidade\")\n",
    "plt.ylabel(\"Números de 0 a 9\")\n",
    "\n",
    "for i, v in enumerate(num_ordenados_intensidade.values):\n",
    "    plt.text(v + 0.1, i, str(int(v)), va='bottom')\n",
    "    \n",
    "plt.show()\n"
   ]
  },
  {
   "cell_type": "markdown",
   "id": "af47a7b6",
   "metadata": {},
   "source": [
    "Calcula a variância da intensidade dos pixels para cada número do target de 0 a 9, para entendermos como a intensidade dos pixels varia dentro de cada número e compararmos a distribuição de intensidade dos pixels entre os números.\n",
    "\n",
    "- Se a variância da intensidade dos pixels de um determinado número for muito alta, isso pode indicar que o número tem regiões com intensidades muito diferentes e possivelmente mais difícil de ser reconhecido por algoritmos de aprendizado de máquina. \n",
    "- Se a variância da intensidade dos pixels de um número for baixa, isso pode indicar que o número tem uma intensidade de pixel mais uniforme e, portanto, mais fácil de ser reconhecido."
   ]
  },
  {
   "cell_type": "code",
   "execution_count": 8,
   "id": "4e05d33f",
   "metadata": {},
   "outputs": [
    {
     "data": {
      "image/png": "[encoded data removed]",
      "text/plain": [
       "<Figure size 640x480 with 1 Axes>"
      ]
     },
     "metadata": {},
     "output_type": "display_data"
    }
   ],
   "source": [
    "variancias = []\n",
    "for i in range(10):\n",
    "    intensidades = df_mnist[df_mnist['target'] == str(i)].iloc[:, :-1].values\n",
    "    variancia = np.var(intensidades)\n",
    "    variancias.append(variancia)\n",
    "\n",
    "numeros = [str(i) for i in range(10)]\n",
    "plt.bar(numeros, variancias, color='#F24F00')\n",
    "plt.title('Variância da intensidade dos pixels para cada número')\n",
    "plt.xlabel('Número')\n",
    "plt.ylabel('Variância')\n",
    "\n",
    "for i, v in enumerate(variancias):\n",
    "    plt.text(i, v + 0.01, str(round(v, 2)), ha='center', va='bottom')\n",
    "    \n",
    "plt.show()\n"
   ]
  },
  {
   "cell_type": "markdown",
   "id": "642ac3c5",
   "metadata": {},
   "source": [
    "## Modelo de Rede Neual usando o Pytorch"
   ]
  },
  {
   "cell_type": "markdown",
   "id": "959b591a",
   "metadata": {},
   "source": [
    "Definir qual será o X e o Y, onde:\n",
    "- X: Contém os pixels de cada imagem, possuindo 784 colunas/ pixels, ou seja, cada imagem representa um matriz de 28x28 pixels (28 linhas e 28 colunas)\n",
    "- Y: Contém a identificação de cada imagem, indicando qual número de 0 a 9 a imagem representa"
   ]
  },
  {
   "cell_type": "code",
   "execution_count": 9,
   "id": "15678c63",
   "metadata": {},
   "outputs": [],
   "source": [
    "X = mnist.data.to_numpy().astype('float32')\n",
    "y = mnist.target.to_numpy().astype('int64')"
   ]
  },
  {
   "cell_type": "markdown",
   "id": "b75e69be",
   "metadata": {},
   "source": [
    "Dividimos cada valor de pixel por 255 para que o intervalo de valores fique entre 0 e 1"
   ]
  },
  {
   "cell_type": "code",
   "execution_count": 10,
   "id": "30bd621c",
   "metadata": {},
   "outputs": [],
   "source": [
    "X /= 255.0"
   ]
  },
  {
   "cell_type": "markdown",
   "id": "c52c94c1",
   "metadata": {},
   "source": [
    "Padronização dos dados, para que cada pixel tenha aproximadamente a mesma escala de valores"
   ]
  },
  {
   "cell_type": "code",
   "execution_count": 11,
   "id": "b9e0740b",
   "metadata": {},
   "outputs": [],
   "source": [
    "scaler = StandardScaler()\n",
    "X = scaler.fit_transform(X)"
   ]
  },
  {
   "cell_type": "markdown",
   "id": "1387b7cf",
   "metadata": {},
   "source": [
    "Dividindo valores de treino e teste"
   ]
  },
  {
   "cell_type": "code",
   "execution_count": 12,
   "id": "dbe7306d",
   "metadata": {},
   "outputs": [],
   "source": [
    "X_train, X_test, y_train, y_test = train_test_split(X, y, test_size=0.3, random_state=42)"
   ]
  },
  {
   "cell_type": "markdown",
   "id": "02c8fda9",
   "metadata": {},
   "source": [
    "Transformar os dados em tensores (é necessário quando se trabalha com PyTorch)"
   ]
  },
  {
   "cell_type": "code",
   "execution_count": 13,
   "id": "591b98f1",
   "metadata": {},
   "outputs": [],
   "source": [
    "X_train_tensor = torch.from_numpy(X_train)\n",
    "y_train_tensor = torch.from_numpy(y_train)\n",
    "X_test_tensor = torch.from_numpy(X_test)\n",
    "y_test_tensor = torch.from_numpy(y_test)"
   ]
  },
  {
   "cell_type": "markdown",
   "id": "4b14bfe1",
   "metadata": {},
   "source": [
    "Não é necessário usar \"TensorDataset\" e \"DataLoader\", mas é indicado quando se trabalha com um conjunto de dados  grande e complexo, pois melhora a eficiência e desempenho do treinamento do modelo\n",
    "\n",
    "TensorDataset: Cria um conjunto de dados a partir de tensores de dados e seus respectivos rótulos\n",
    "DataLoader: Divide os dados em lotes para um processamento mais eficiente, além de avaliar a precisão do modelo e evitar o superajuste"
   ]
  },
  {
   "cell_type": "code",
   "execution_count": 14,
   "id": "9c678656",
   "metadata": {},
   "outputs": [],
   "source": [
    "train_dataset = TensorDataset(X_train_tensor, y_train_tensor)\n",
    "train_loader = DataLoader(train_dataset, batch_size=128, shuffle=True)\n",
    "\n",
    "test_dataset = TensorDataset(X_test_tensor, y_test_tensor)\n",
    "test_loader = DataLoader(test_dataset, batch_size=128, shuffle=True)"
   ]
  },
  {
   "cell_type": "markdown",
   "id": "7b49e07a",
   "metadata": {},
   "source": [
    "Utilizando 6 camadas: \n",
    "- 1 camada linear: Contém 784 neurônios de entrada (respectivamente todas as colunas do dataset), com 256 neurônios de saída\n",
    "- 2 camada linear: Contém os 256 neurônios de entrada (saídas da 1 camada) e 128 neurônios de saída\n",
    "- 3 camada linear: Contém os 128 neurônios de entrada (saídas da 2 camada) e 64 neurônios de saída\n",
    "- 4 camada linear: Contém os 64 neurônios de entrada (saídas da 3 camada) e 32 neurônios de saída\n",
    "- 5 camada linear: Contém os 32 neurônios de entrada (saídas da 4 camada) e 16 neurônios de saída\n",
    "- 6 camada linear: Contém os 16 neurônios de entrada (saídas da 5 camada) e 10 neurônios de saída (que corresponde às 10 classes possíveis do target\n",
    "\n",
    "Aplicando a função de ativação ReLu (Caso o valor de entrada for negativo, a função retornará 0, mas caso contrário, retornará o próprio valor de entrada)\n",
    "\n",
    "Utilizando o nn.Sequential para criar uma rede neural com camadas sequenciais, ou seja, uma camada conectada à outra"
   ]
  },
  {
   "cell_type": "code",
   "execution_count": 15,
   "id": "2047725b",
   "metadata": {},
   "outputs": [],
   "source": [
    "modelo = nn.Sequential(\n",
    "    nn.Linear(784, 256),\n",
    "    nn.ReLU(),\n",
    "    nn.Dropout(p=0.5),\n",
    "    nn.Linear(256, 128),\n",
    "    nn.ReLU(),\n",
    "    nn.Dropout(p=0.5),\n",
    "    nn.Linear(128, 64),\n",
    "    nn.ReLU(),\n",
    "    nn.Dropout(p=0.5),\n",
    "    nn.Linear(64, 32),\n",
    "    nn.ReLU(),\n",
    "    nn.Dropout(p=0.5),\n",
    "    nn.Linear(32, 16),\n",
    "    nn.ReLU(),\n",
    "    nn.Dropout(p=0.5),\n",
    "    nn.Linear(16, 10),\n",
    "    nn.LogSoftmax(dim=1))"
   ]
  },
  {
   "cell_type": "markdown",
   "id": "e1ea4fd2",
   "metadata": {},
   "source": [
    "Utilizando o otimizador Adam, pois é um dos algoritmos mais populares para otimização de redes neurais, e defini os seguintes parâmetros:\n",
    "- lr = 0.001 pois quanto mais baixo, significa que a rede neural fará ajustes menores nos pesos a cada atualização\n",
    "- eps = 1e-08, para evitar a divisão por zero e garantir a estabilidade numérica do algoritmo, e usei 1e-08 pois é um valor padrão muito pequeno adicionado para evitar erros numéricos\n",
    "- betas = (0.9, 0.999), utilizei os valores padrões de beta1 (0.9) e beta2 (0.999), pois é uma técnica utilizada em deep learning para atualizar os pesos do modelo durante o treinamento,"
   ]
  },
  {
   "cell_type": "code",
   "execution_count": 16,
   "id": "a1012760",
   "metadata": {},
   "outputs": [],
   "source": [
    "otimizador_Adam = torch.optim.Adam(modelo.parameters(), lr=0.001, betas=(0.9, 0.999), eps=1e-08)"
   ]
  },
  {
   "cell_type": "markdown",
   "id": "d264b401",
   "metadata": {},
   "source": [
    "A funcao de perda é usada para calcular a diferença entre a saída real e a saída esperada do modelo, em que é usada para ajustar os parâmetros do modelo durante o treinamento"
   ]
  },
  {
   "cell_type": "code",
   "execution_count": 17,
   "id": "c369d191",
   "metadata": {},
   "outputs": [],
   "source": [
    "funcao_perda = nn.CrossEntropyLoss()"
   ]
  },
  {
   "cell_type": "markdown",
   "id": "7162ecb2",
   "metadata": {},
   "source": [
    "Treinamento do modelo"
   ]
  },
  {
   "cell_type": "code",
   "execution_count": 28,
   "id": "eb3c7cc2",
   "metadata": {},
   "outputs": [
    {
     "name": "stdout",
     "output_type": "stream",
     "text": [
      "Época 1/15, Perda de treinamento: 0.217, Acurácia de treinamento: 96.44 %, Acurácia de teste: 95.21 %\n",
      "Época 2/15, Perda de treinamento: 0.128, Acurácia de treinamento: 97.67 %, Acurácia de teste: 96.00 %\n",
      "Época 3/15, Perda de treinamento: 0.092, Acurácia de treinamento: 98.26 %, Acurácia de teste: 96.30 %\n",
      "Época 4/15, Perda de treinamento: 0.070, Acurácia de treinamento: 98.59 %, Acurácia de teste: 96.52 %\n",
      "Época 5/15, Perda de treinamento: 0.057, Acurácia de treinamento: 98.73 %, Acurácia de teste: 96.46 %\n",
      "Época 6/15, Perda de treinamento: 0.044, Acurácia de treinamento: 99.23 %, Acurácia de teste: 96.94 %\n",
      "Época 7/15, Perda de treinamento: 0.038, Acurácia de treinamento: 99.04 %, Acurácia de teste: 96.64 %\n",
      "Época 8/15, Perda de treinamento: 0.030, Acurácia de treinamento: 99.38 %, Acurácia de teste: 96.84 %\n",
      "Época 9/15, Perda de treinamento: 0.025, Acurácia de treinamento: 99.37 %, Acurácia de teste: 96.80 %\n",
      "Época 10/15, Perda de treinamento: 0.030, Acurácia de treinamento: 99.39 %, Acurácia de teste: 96.96 %\n",
      "Época 11/15, Perda de treinamento: 0.028, Acurácia de treinamento: 99.53 %, Acurácia de teste: 97.14 %\n",
      "Época 12/15, Perda de treinamento: 0.021, Acurácia de treinamento: 99.61 %, Acurácia de teste: 97.03 %\n",
      "Época 13/15, Perda de treinamento: 0.015, Acurácia de treinamento: 99.75 %, Acurácia de teste: 97.16 %\n",
      "Época 14/15, Perda de treinamento: 0.018, Acurácia de treinamento: 99.59 %, Acurácia de teste: 97.00 %\n",
      "Época 15/15, Perda de treinamento: 0.018, Acurácia de treinamento: 99.48 %, Acurácia de teste: 96.80 %\n"
     ]
    }
   ],
   "source": [
    "num_epoca = 15\n",
    "\n",
    "for epoca in range(num_epoca):\n",
    "    running_loss = 0.0001\n",
    "    \n",
    "    for i, data in enumerate(train_loader, 0):\n",
    "        inputs, labels = data\n",
    "        otimizador_Adam.zero_grad()\n",
    "        outputs = modelo(inputs)\n",
    "        loss = funcao_perda(outputs, labels)\n",
    "        loss.backward()\n",
    "        otimizador_Adam.step()\n",
    "        running_loss += loss.item()\n",
    "        \n",
    "    qtd_previsoes_corretas_treino = 0\n",
    "    total_treino = 0\n",
    "    with torch.no_grad():\n",
    "        for train in train_loader:\n",
    "            inputs, labels = train\n",
    "            outputs = modelo(inputs)\n",
    "            valor_maximo, previsoes = torch.max(outputs.data, 1)\n",
    "            total_treino += labels.size(0)\n",
    "            qtd_previsoes_corretas_treino += (previsoes == labels).sum().item()\n",
    "    \n",
    "    qtd_previsoes_corretas_teste = 0\n",
    "    total_teste = 0\n",
    "    with torch.no_grad():\n",
    "        for test in test_loader:\n",
    "            inputs, labels = test\n",
    "            outputs = modelo(inputs)\n",
    "            valor_maximo, previsoes = torch.max(outputs.data, 1)\n",
    "            total_teste += labels.size(0)\n",
    "            qtd_previsoes_corretas_teste += (previsoes == labels).sum().item()\n",
    "\n",
    "    print('Época %d/%d, Perda de treinamento: %.3f, Acurácia de treinamento: %.2f %%, Acurácia de teste: %.2f %%' % (epoca + 1, num_epoca, running_loss / len(train_loader), 100 * qtd_previsoes_corretas_treino / total_treino, 100 * qtd_previsoes_corretas_teste / total_teste))\n"
   ]
  },
  {
   "cell_type": "markdown",
   "id": "b4a8c164",
   "metadata": {},
   "source": [
    "Quantos % de cada classe o modelo acertou "
   ]
  },
  {
   "cell_type": "code",
   "execution_count": 19,
   "id": "e9ec068f",
   "metadata": {},
   "outputs": [
    {
     "name": "stdout",
     "output_type": "stream",
     "text": [
      "Acurácia da classe 0: 94.31 %\n",
      "Acurácia da classe 1: 97.72 %\n",
      "Acurácia da classe 2: 87.62 %\n",
      "Acurácia da classe 3: 93.93 %\n",
      "Acurácia da classe 4: 93.75 %\n",
      "Acurácia da classe 5: 88.30 %\n",
      "Acurácia da classe 6: 92.96 %\n",
      "Acurácia da classe 7: 92.97 %\n",
      "Acurácia da classe 8: 92.17 %\n",
      "Acurácia da classe 9: 92.82 %\n"
     ]
    }
   ],
   "source": [
    "qtd_previsoes_corretas = 0\n",
    "total = 0\n",
    "qtd_classes = 10\n",
    "qtd_corretas_por_classe = [0] * qtd_classes\n",
    "qtd_amostras_por_classe = [0] * qtd_classes\n",
    "\n",
    "modelo.eval()\n",
    "with torch.no_grad():\n",
    "    for test in test_loader:\n",
    "        inputs, labels = test\n",
    "        outputs = modelo(inputs)\n",
    "        valor_maximo, previsoes = torch.max(outputs.data, 1)\n",
    "        for classe in range(qtd_classes):\n",
    "            qtd_corretas_por_classe[classe] += ((previsoes == labels) & (labels == classe)).sum().item()\n",
    "            qtd_amostras_por_classe[classe] += (labels == classe).sum().item()\n",
    "\n",
    "for classe in range(qtd_classes):\n",
    "    print('Acurácia da classe %d: %.2f %%' % (classe, 100 * qtd_corretas_por_classe[classe] / qtd_amostras_por_classe[classe]))\n"
   ]
  },
  {
   "cell_type": "markdown",
   "id": "89e81d89",
   "metadata": {},
   "source": [
    "# Prevendo "
   ]
  },
  {
   "cell_type": "code",
   "execution_count": 46,
   "id": "58643083",
   "metadata": {},
   "outputs": [
    {
     "name": "stdout",
     "output_type": "stream",
     "text": [
      "Previsão: 3\n",
      "Probabilidade de ser da Classe 0: 0.08%\n",
      "Probabilidade de ser da Classe 1: 0.19%\n",
      "Probabilidade de ser da Classe 2: 1.11%\n",
      "Probabilidade de ser da Classe 3: 94.52%\n",
      "Probabilidade de ser da Classe 4: 0.85%\n",
      "Probabilidade de ser da Classe 5: 0.27%\n",
      "Probabilidade de ser da Classe 6: 0.03%\n",
      "Probabilidade de ser da Classe 7: 0.49%\n",
      "Probabilidade de ser da Classe 8: 1.79%\n",
      "Probabilidade de ser da Classe 9: 0.67%\n"
     ]
    }
   ],
   "source": [
    "imagem = Image.open(\"Imagem3.png\")\n",
    "transform = transforms.Compose([transforms.Resize((28, 28)),\n",
    "                                transforms.Grayscale(),\n",
    "                                transforms.ToTensor()])\n",
    "\n",
    "imagem_tensor = transform(imagem)\n",
    "imagem_tensor = imagem_tensor.view(1, -1)\n",
    "\n",
    "modelo.eval()  \n",
    "with torch.no_grad():\n",
    "    output = modelo(imagem_tensor)\n",
    "    valor_maximo, previsao = torch.max(output.data, 1)\n",
    "    print(f\"Previsão: {previsao.item()}\")\n",
    "\n",
    "rotulos = df_mnist['target'].values\n",
    "classes = [str(i) for i in range(10)]\n",
    "\n",
    "probabilidades = torch.softmax(output.data, dim=1)\n",
    "for i, prob in enumerate(probabilidades[0]):\n",
    "    print(f\"Probabilidade de ser da Classe {classes[i]}: {prob*100:.2f}%\")\n"
   ]
  },
  {
   "cell_type": "code",
   "execution_count": 50,
   "id": "7d6ebb52",
   "metadata": {},
   "outputs": [
    {
     "name": "stdout",
     "output_type": "stream",
     "text": [
      "Previsão: 5\n",
      "Probabilidade de ser da Classe 0: 3.28%\n",
      "Probabilidade de ser da Classe 1: 0.33%\n",
      "Probabilidade de ser da Classe 2: 0.26%\n",
      "Probabilidade de ser da Classe 3: 20.67%\n",
      "Probabilidade de ser da Classe 4: 0.41%\n",
      "Probabilidade de ser da Classe 5: 35.04%\n",
      "Probabilidade de ser da Classe 6: 1.16%\n",
      "Probabilidade de ser da Classe 7: 0.58%\n",
      "Probabilidade de ser da Classe 8: 31.87%\n",
      "Probabilidade de ser da Classe 9: 6.41%\n"
     ]
    }
   ],
   "source": [
    "imagem = Image.open(\"Imagem5.png\")\n",
    "transform = transforms.Compose([transforms.Resize((28, 28)),\n",
    "                                transforms.Grayscale(),\n",
    "                                transforms.ToTensor()])\n",
    "\n",
    "imagem_tensor = transform(imagem)\n",
    "imagem_tensor = imagem_tensor.view(1, -1)\n",
    "\n",
    "modelo.eval()  \n",
    "with torch.no_grad():\n",
    "    output = modelo(imagem_tensor)\n",
    "    valor_maximo, previsao = torch.max(output.data, 1)\n",
    "    print(f\"Previsão: {previsao.item()}\")\n",
    "\n",
    "rotulos = df_mnist['target'].values\n",
    "classes = [str(i) for i in range(10)]\n",
    "\n",
    "probabilidades = torch.softmax(output.data, dim=1)\n",
    "for i, prob in enumerate(probabilidades[0]):\n",
    "    print(f\"Probabilidade de ser da Classe {classes[i]}: {prob*100:.2f}%\")\n"
   ]
  },
  {
   "cell_type": "code",
   "execution_count": 53,
   "id": "0cf9ece1",
   "metadata": {},
   "outputs": [
    {
     "name": "stdout",
     "output_type": "stream",
     "text": [
      "Previsão: 8\n",
      "Probabilidade de ser da Classe 0: 0.11%\n",
      "Probabilidade de ser da Classe 1: 0.01%\n",
      "Probabilidade de ser da Classe 2: 0.05%\n",
      "Probabilidade de ser da Classe 3: 0.24%\n",
      "Probabilidade de ser da Classe 4: 0.01%\n",
      "Probabilidade de ser da Classe 5: 0.17%\n",
      "Probabilidade de ser da Classe 6: 0.12%\n",
      "Probabilidade de ser da Classe 7: 0.00%\n",
      "Probabilidade de ser da Classe 8: 99.28%\n",
      "Probabilidade de ser da Classe 9: 0.01%\n"
     ]
    }
   ],
   "source": [
    "imagem = Image.open(\"Imagem8.png\")\n",
    "transform = transforms.Compose([transforms.Resize((28, 28)),\n",
    "                                transforms.Grayscale(),\n",
    "                                transforms.ToTensor()])\n",
    "\n",
    "imagem_tensor = transform(imagem)\n",
    "imagem_tensor = imagem_tensor.view(1, -1)\n",
    "\n",
    "modelo.eval()  \n",
    "with torch.no_grad():\n",
    "    output = modelo(imagem_tensor)\n",
    "    valor_maximo, previsao = torch.max(output.data, 1)\n",
    "    print(f\"Previsão: {previsao.item()}\")\n",
    "\n",
    "rotulos = df_mnist['target'].values\n",
    "classes = [str(i) for i in range(10)]\n",
    "\n",
    "probabilidades = torch.softmax(output.data, dim=1)\n",
    "for i, prob in enumerate(probabilidades[0]):\n",
    "    print(f\"Probabilidade de ser da Classe {classes[i]}: {prob*100:.2f}%\")\n"
   ]
  },
  {
   "cell_type": "markdown",
   "id": "d3635c26",
   "metadata": {},
   "source": [
    "# links dos exemplos:"
   ]
  },
  {
   "cell_type": "markdown",
   "id": "0857818b",
   "metadata": {},
   "source": [
    "<img src = \"https://ae01.alicdn.com/kf/HTB1tVzGJVXXXXXRXpXXq6xXFXXXF/222515397/HTB1tVzGJVXXXXXRXpXXq6xXFXXXF.jpg\" width=\"10%\"/>"
   ]
  },
  {
   "cell_type": "markdown",
   "id": "ca9b32f9",
   "metadata": {},
   "source": [
    "<img src = \"https://ae01.alicdn.com/kf/HTB1aeViKXXXXXaBXVXXq6xXFXXXX/N-mero-de-impress-o-digital-5-helvetica-5-tipografia-cartaz-quarto-decora-o-da-parede.jpg_Q90.jpg_.webp\" width=\"10%\"/>"
   ]
  },
  {
   "cell_type": "markdown",
   "id": "2b291760",
   "metadata": {},
   "source": [
    "<img src = \"https://img.myloview.com.br/posters/numero-oito-numeral-carta-simples-icone-branco-no-preto-est-700-131418263.jpg\" width=\"10%\"/>"
   ]
  }
 ],
 "metadata": {
  "kernelspec": {
   "display_name": "Python 3 (ipykernel)",
   "language": "python",
   "name": "python3"
  },
  "language_info": {
   "codemirror_mode": {
    "name": "ipython",
    "version": 3
   },
   "file_extension": ".py",
   "mimetype": "text/x-python",
   "name": "python",
   "nbconvert_exporter": "python",
   "pygments_lexer": "ipython3",
   "version": "3.11.1"
  }
 },
 "nbformat": 4,
 "nbformat_minor": 5
}
